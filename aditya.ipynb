{
  "cells": [
    {
      "cell_type": "markdown",
      "metadata": {
        "id": "view-in-github",
        "colab_type": "text"
      },
      "source": [
        "<a href=\"https://colab.research.google.com/github/choudharyaditya917-source/adi/blob/main/aditya.ipynb\" target=\"_parent\"><img src=\"https://colab.research.google.com/assets/colab-badge.svg\" alt=\"Open In Colab\"/></a>"
      ]
    },
    {
      "cell_type": "code",
      "execution_count": null,
      "metadata": {
        "colab": {
          "base_uri": "https://localhost:8080/"
        },
        "id": "I4rh6uDxK6RX",
        "outputId": "0f0bede7-6921-42c0-c012-21616f3f3fc4"
      },
      "outputs": [
        {
          "name": "stdout",
          "output_type": "stream",
          "text": [
            "hi\n"
          ]
        }
      ],
      "source": [
        "print(\"hi\")"
      ]
    },
    {
      "cell_type": "code",
      "source": [],
      "metadata": {
        "id": "-GYn2lNH96H2"
      },
      "execution_count": null,
      "outputs": []
    },
    {
      "cell_type": "code",
      "execution_count": null,
      "metadata": {
        "id": "TIh8Bm35RqEw"
      },
      "outputs": [],
      "source": []
    },
    {
      "cell_type": "code",
      "execution_count": null,
      "metadata": {
        "id": "T_Ag0rYNZPAL"
      },
      "outputs": [],
      "source": [
        "print(\"hello d\")"
      ]
    },
    {
      "cell_type": "code",
      "execution_count": null,
      "metadata": {
        "id": "JlhGvcCsMOGW"
      },
      "outputs": [],
      "source": [
        "#hi i am writing program for hello world"
      ]
    },
    {
      "cell_type": "code",
      "execution_count": null,
      "metadata": {
        "colab": {
          "base_uri": "https://localhost:8080/",
          "height": 36
        },
        "id": "nIFHDkVunueI",
        "outputId": "6d78794b-cd7b-4658-a72a-95fd4a6b1534"
      },
      "outputs": [
        {
          "data": {
            "application/vnd.google.colaboratory.intrinsic+json": {
              "type": "string"
            },
            "text/plain": [
              "'hi\\nhlo\\nhow are you'"
            ]
          },
          "execution_count": 4,
          "metadata": {},
          "output_type": "execute_result"
        }
      ],
      "source": [
        "\"\"\"hi\n",
        "hlo\n",
        "how are you\"\"\""
      ]
    },
    {
      "cell_type": "code",
      "execution_count": null,
      "metadata": {
        "colab": {
          "base_uri": "https://localhost:8080/",
          "height": 36
        },
        "id": "XTAS89sVoy1f",
        "outputId": "f102069e-4b9e-4238-932f-58ab5562b544"
      },
      "outputs": [
        {
          "data": {
            "application/vnd.google.colaboratory.intrinsic+json": {
              "type": "string"
            },
            "text/plain": [
              "'hi\\nhlo\\nhow are you'"
            ]
          },
          "execution_count": 5,
          "metadata": {},
          "output_type": "execute_result"
        }
      ],
      "source": [
        "'''hi\n",
        "hlo\n",
        "how are you'''"
      ]
    },
    {
      "cell_type": "code",
      "execution_count": null,
      "metadata": {
        "colab": {
          "base_uri": "https://localhost:8080/"
        },
        "id": "ywzVeSAJo-qF",
        "outputId": "db74d257-8414-495a-c688-742e5abdb826"
      },
      "outputs": [
        {
          "name": "stdout",
          "output_type": "stream",
          "text": [
            "my name is aditya\n"
          ]
        }
      ],
      "source": [
        "print(\"my name is aditya\")"
      ]
    },
    {
      "cell_type": "code",
      "execution_count": null,
      "metadata": {
        "colab": {
          "base_uri": "https://localhost:8080/"
        },
        "id": "gbCnwdS0pjxL",
        "outputId": "dcf491e1-a0c6-4de3-bb7a-18f593161256"
      },
      "outputs": [
        {
          "name": "stdout",
          "output_type": "stream",
          "text": [
            "name.       :    aditya\n",
            "Name        :  Aditya\n",
            "age            :  23\n",
            "Father's name  :  Gurmeet singh\n",
            "Mother's name  :  Shashi  kanta\n",
            "Email    id    :  choudharyaditya917@gmail.com\n",
            "mobile   no    :  7876161568\n",
            "education      :  BSC Physics\n",
            "Address        :  vpo marwari distt.UNA(HP)\n"
          ]
        }
      ],
      "source": [
        "name=\"aditya\"\n",
        "print(\"name.       :   \", name)\n",
        "print(\"Name        :  Aditya\")\n",
        "print(\"age            :  23\")\n",
        "print(\"Father's name  :  Gurmeet singh\")\n",
        "print(\"Mother's name  :  Shashi  kanta\")\n",
        "print(\"Email    id    :  choudharyaditya917@gmail.com\")\n",
        "print(\"mobile   no    :  7876161568\")\n",
        "print(\"education      :  BSC Physics\")\n",
        "print(\"Address        :  vpo marwari distt.UNA(HP)\")"
      ]
    },
    {
      "cell_type": "code",
      "execution_count": null,
      "metadata": {
        "colab": {
          "base_uri": "https://localhost:8080/"
        },
        "id": "OoQiT1bJ1h3Q",
        "outputId": "b664b5d3-0e65-48aa-9320-fc969cd078c2"
      },
      "outputs": [
        {
          "name": "stdout",
          "output_type": "stream",
          "text": [
            "name.        :  aditya\n",
            "age.         :  23\n",
            "father_name. :  gurmeet singh\n",
            "mother_name. :  shashi kanta\n",
            "email_id.    :  choudharyaditya917@gmail.com\n",
            "mobile_no.   :  7876161568\n"
          ]
        }
      ],
      "source": [
        "name=\"aditya\"\n",
        "print(\"name.        : \",name)\n",
        "age=\"23\"\n",
        "print(\"age.         : \",age)\n",
        "father_name=\"gurmeet singh\"\n",
        "print(\"father_name. : \",father_name)\n",
        "mother_name=\"shashi kanta\"\n",
        "print(\"mother_name. : \",mother_name)\n",
        "email_id=\"choudharyaditya917@gmail.com\"\n",
        "print(\"email_id.    : \",email_id)\n",
        "mobile_no=\"7876161568\"\n",
        "print(\"mobile_no.   : \",mobile_no)"
      ]
    },
    {
      "cell_type": "code",
      "execution_count": null,
      "metadata": {
        "colab": {
          "base_uri": "https://localhost:8080/"
        },
        "id": "0qjO0b1pqez8",
        "outputId": "63b0a4c4-356a-4373-aa6b-ee375ea64746"
      },
      "outputs": [
        {
          "name": "stdout",
          "output_type": "stream",
          "text": [
            "pizza : 500 Rs\n",
            "burger : 100 Rs\n",
            "cake : 200 Rs\n",
            "shakes : 500 Rs\n",
            "sandwich : 150 Rs\n",
            "total_bill: 1450 Rs\n"
          ]
        }
      ],
      "source": [
        "item1=\"pizza\"\n",
        "price_of_item1=500\n",
        "item2=\"burger\"\n",
        "price_of_item2=100\n",
        "item3=\"cake\"\n",
        "price_of_item3=200\n",
        "item4=\"shakes\"\n",
        "price_of_item4=500\n",
        "item5=\"sandwich\"\n",
        "price_of_item5=150\n",
        "\n",
        "total_bill=price_of_item1+price_of_item2+price_of_item3+price_of_item4+price_of_item5\n",
        "\n",
        "print(item1,\":\",price_of_item1,\"Rs\")\n",
        "print(item2,\":\",price_of_item2,\"Rs\")\n",
        "print(item3,\":\",price_of_item3,\"Rs\")\n",
        "print(item4,\":\",price_of_item4,\"Rs\")\n",
        "print(item5,\":\",price_of_item5,\"Rs\")\n",
        "print(\"total_bill:\",total_bill,\"Rs\")"
      ]
    },
    {
      "cell_type": "code",
      "execution_count": null,
      "metadata": {
        "colab": {
          "base_uri": "https://localhost:8080/"
        },
        "id": "r4M-Gfu-BUBE",
        "outputId": "e89a16ad-de39-479c-97bb-d19349860568"
      },
      "outputs": [
        {
          "name": "stdout",
          "output_type": "stream",
          "text": [
            "price: 1000 Rs\n",
            "discount: 200.0 Rs\n",
            "final_price: 800.0 Rs\n"
          ]
        }
      ],
      "source": [
        "price = 1000\n",
        "discount =20\n",
        "discount=(price*discount)/100\n",
        "final_price=price-discount\n",
        "\n",
        "print(\"price:\",price,\"Rs\")\n",
        "print(\"discount:\",discount,\"Rs\")\n",
        "print(\"final_price:\",final_price,\"Rs\")"
      ]
    },
    {
      "cell_type": "code",
      "execution_count": null,
      "metadata": {
        "colab": {
          "base_uri": "https://localhost:8080/"
        },
        "id": "RPRXQrcTGeRe",
        "outputId": "ada58828-0164-4568-f59a-4474289c3ba3"
      },
      "outputs": [
        {
          "name": "stdout",
          "output_type": "stream",
          "text": [
            "burger50\n",
            "50\n",
            "30020\n",
            "20\n"
          ]
        }
      ],
      "source": [
        "item1=input(\"burger\")\n",
        "print(item1)\n",
        "price_of_item1=int(input(\"300\"))\n",
        "print(price_of_item1)"
      ]
    },
    {
      "cell_type": "code",
      "execution_count": null,
      "metadata": {
        "colab": {
          "base_uri": "https://localhost:8080/"
        },
        "id": "MbWwvaoZ4tLu",
        "outputId": "93e92f35-ffec-4259-ba50-20babb2b17ed"
      },
      "outputs": [
        {
          "name": "stdout",
          "output_type": "stream",
          "text": [
            "enter item1:car\n",
            "enter price of item1:700000\n",
            "enter item1 discount(%):35\n",
            "car : 700000.0 Rs\n",
            "245000.0 Rs\n",
            "455000.0 Rs\n"
          ]
        }
      ],
      "source": [
        "# item 1\n",
        "item1=input(\"enter item1:\" )\n",
        "price_of_item1=float(input(\"enter price of item1:\"))\n",
        "discount=float(input(\"enter item1 discount(%):\"))\n",
        "discount_item1=(price_of_item1*discount)/100\n",
        "final_price_item1=price_of_item1-discount_item1\n",
        "print(item1,\":\",price_of_item1,\"Rs\")\n",
        "print(discount_item1,\"Rs\")\n",
        "print(final_price_item1,\"Rs\")"
      ]
    },
    {
      "cell_type": "code",
      "execution_count": null,
      "metadata": {
        "colab": {
          "base_uri": "https://localhost:8080/"
        },
        "id": "GzP1zLRwRsQr",
        "outputId": "3b7adbc7-bbe8-438a-bb89-224aaef3cfe8"
      },
      "outputs": [
        {
          "name": "stdout",
          "output_type": "stream",
          "text": [
            "enter item2:bike\n",
            "enter price of item2:250000\n",
            "enter item2 discount(%):18\n",
            "bike : 250000.0 Rs\n",
            "45000.0 Rs\n",
            "205000.0 Rs\n"
          ]
        }
      ],
      "source": [
        "#item 2\n",
        "item2 = input(\"enter item2:\")\n",
        "price_of_item2 = float(input(\"enter price of item2:\"))\n",
        "discount = float(input(\"enter item2 discount(%):\"))\n",
        "discount_item2 = (price_of_item2 * discount) / 100\n",
        "final_price_item2 = price_of_item2 - discount_item2\n",
        "print(item2, \":\", price_of_item2, \"Rs\")\n",
        "print(discount_item2, \"Rs\")\n",
        "print(final_price_item2, \"Rs\")"
      ]
    },
    {
      "cell_type": "code",
      "execution_count": null,
      "metadata": {
        "colab": {
          "base_uri": "https://localhost:8080/"
        },
        "id": "Itdbv5M9Sx_1",
        "outputId": "1e690c3f-2fd4-4ff6-e251-fcb597686d34"
      },
      "outputs": [
        {
          "name": "stdout",
          "output_type": "stream",
          "text": [
            "enter item3: shoes\n",
            "enter price of item3:14000\n",
            "enter item3 discount(%):45\n",
            " shoes : 14000.0 Rs\n",
            "6300.0 Rs\n",
            "7700.0 Rs\n"
          ]
        }
      ],
      "source": [
        "#item 3\n",
        "item3 = input(\"enter item3:\")\n",
        "price_of_item3 = float (input(\"enter price of item3:\"))\n",
        "discount = float (input(\"enter item3 discount(%):\"))\n",
        "discount_item3 = (price_of_item3 * discount) / 100\n",
        "final_price_item3 = price_of_item3 - discount_item3\n",
        "print(item3, \":\", price_of_item3, \"Rs\")\n",
        "print(discount_item3, \"Rs\")\n",
        "print(final_price_item3, \"Rs\")\n"
      ]
    },
    {
      "cell_type": "code",
      "execution_count": null,
      "metadata": {
        "colab": {
          "base_uri": "https://localhost:8080/"
        },
        "id": "tdFr-DIJX5IX",
        "outputId": "72ad7b72-266e-4bc7-aed3-e6e0bc074ea6"
      },
      "outputs": [
        {
          "name": "stdout",
          "output_type": "stream",
          "text": [
            "enter name of product1:washing machine\n",
            "enter price of product1:15000\n",
            "enter discount(%):20\n",
            "washing machine : 15000.0 Rs\n",
            "20.0 Rs\n",
            "12000.0 Rs\n"
          ]
        }
      ],
      "source": [
        "#product 1\n",
        "name_of_product=input(\"enter name of product1:\")\n",
        "price_of_product=float(input(\"enter price of product1:\"))\n",
        "discount1=float(input(\"enter discount(%):\"))\n",
        "payable1=price_of_product-(price_of_product*discount1)/100\n",
        "print(name_of_product,\":\",price_of_product,\"Rs\")\n",
        "print(discount1,\"Rs\")\n",
        "print(payable1,\"Rs\")"
      ]
    },
    {
      "cell_type": "code",
      "execution_count": null,
      "metadata": {
        "colab": {
          "base_uri": "https://localhost:8080/"
        },
        "id": "OwI5dyP-h4Te",
        "outputId": "65fad189-8db5-47f2-de9e-31b5e887fcb6"
      },
      "outputs": [
        {
          "name": "stdout",
          "output_type": "stream",
          "text": [
            "enter name of product2:iphone\n",
            "enter price of product2: 140000\n",
            "enter discount(%):12\n",
            "iphone : 140000.0 Rs\n",
            "12.0 %\n",
            "123200.0 Rs\n"
          ]
        }
      ],
      "source": [
        "# product 2\n",
        "name_of_product=input(\"enter name of product2:\")\n",
        "price_of_product=float(input(\"enter price of product2:\"))\n",
        "discount2=float(input(\"enter discount(%):\"))\n",
        "payable2=price_of_product-(price_of_product*discount2)/100\n",
        "print(name_of_product,\":\",price_of_product,\"Rs\")\n",
        "print(discount2,\"%\")\n",
        "print(payable2,\"Rs\")"
      ]
    },
    {
      "cell_type": "code",
      "execution_count": null,
      "metadata": {
        "id": "H-GnOOfSwviP"
      },
      "outputs": [],
      "source": []
    },
    {
      "cell_type": "code",
      "execution_count": null,
      "metadata": {
        "colab": {
          "base_uri": "https://localhost:8080/"
        },
        "id": "arBevvPkqGCW",
        "outputId": "2f38b449-6cff-4db2-82ea-dd9a4d8577d7"
      },
      "outputs": [
        {
          "name": "stdout",
          "output_type": "stream",
          "text": [
            "is an odd .\n"
          ]
        }
      ],
      "source": [
        "num = 5\n",
        "if num% 2==0:\n",
        "  print(\" is an even .\")\n",
        "else:\n",
        "  print(\"is an odd .\")"
      ]
    },
    {
      "cell_type": "code",
      "execution_count": null,
      "metadata": {
        "colab": {
          "base_uri": "https://localhost:8080/"
        },
        "id": "fk8kCMrN0579",
        "outputId": "4782f709-f263-4481-de0e-5bfa213d46a7"
      },
      "outputs": [
        {
          "name": "stdout",
          "output_type": "stream",
          "text": [
            "yours grade is: C\n"
          ]
        }
      ],
      "source": [
        "marks = 75\n",
        "if marks >=90:\n",
        "  grade = \"A\"\n",
        "elif marks >=80:\n",
        "  grade =\"B\"\n",
        "elif marks >=70:\n",
        "  grade =\"C\"\n",
        "elif marks >=60:\n",
        "  grade =\"D\"\n",
        "elif marks >=50:\n",
        "  grade =\"E\"\n",
        "else:\n",
        "  grade =\"F\"\n",
        "\n",
        "print( \"yours grade is:\",grade)\n",
        "\n"
      ]
    },
    {
      "cell_type": "code",
      "execution_count": null,
      "metadata": {
        "colab": {
          "base_uri": "https://localhost:8080/"
        },
        "id": "2GmDy4xn2imx",
        "outputId": "8f6fe213-7296-4be5-b34a-569f4fab5111"
      },
      "outputs": [
        {
          "name": "stdout",
          "output_type": "stream",
          "text": [
            "Enter gender (male/female): male\n",
            "Enter age: 25\n",
            "Location: hotel_a_building2\n"
          ]
        }
      ],
      "source": [
        "gender = input(\"Enter gender (male/female): \").lower()\n",
        "\n",
        "if gender == \"male\":\n",
        "  age = int(input(\"Enter age: \"))\n",
        "  if age >= 30:\n",
        "    print(\"Location: hotel_a_building1\")\n",
        "  else:\n",
        "    print(\"Location: hotel_a_building2\")\n",
        "elif gender == \"female\":\n",
        "  age = int(input(\"Enter age: \"))\n",
        "  if age <= 30:\n",
        "    print(\"Location: hotel_b_building1\")\n",
        "  else:\n",
        "    print(\"Location: hotel_b_building2\")\n",
        "else:\n",
        "  print(\"Invalid gender entered.\")"
      ]
    },
    {
      "cell_type": "code",
      "execution_count": null,
      "metadata": {
        "colab": {
          "base_uri": "https://localhost:8080/"
        },
        "id": "PcFtvKAn_6kK",
        "outputId": "9998178e-5efb-4fb1-8718-8d0efb0295cb"
      },
      "outputs": [
        {
          "name": "stdout",
          "output_type": "stream",
          "text": [
            "Enter month name: february\n",
            "Enter year: 7008\n",
            "February has 29 days in 7008\n"
          ]
        }
      ],
      "source": [
        "month = input(\"Enter month name: \").lower()\n",
        "year = int(input(\"Enter year: \"))\n",
        "\n",
        "if month in [\"april\", \"june\", \"september\", \"november\"]:\n",
        "  print(month.title(), \"has 30 days\")\n",
        "elif month in [\"january\" , \"march\",\"may\",\"july\",\"august\",\"october\",\"december\"]:\n",
        "  print(month.title(), \"has 31 days\")\n",
        "elif month == \"february\":\n",
        "  if year % 4 == 0 and (year % 100 != 0 or year % 400 == 0):\n",
        "    print(month.title(), \"has 29 days in\", year)\n",
        "  else:\n",
        "    print(month.title(), \"has 28 days in\", year)\n",
        "else:\n",
        "  print(month.title(), \"is not a valid month name\")"
      ]
    },
    {
      "cell_type": "code",
      "execution_count": null,
      "metadata": {
        "colab": {
          "background_save": true,
          "base_uri": "https://localhost:8080/"
        },
        "id": "LRLXmRFGTFl4",
        "outputId": "5134c99f-180f-43d5-902c-2a017d81a08e"
      },
      "outputs": [
        {
          "name": "stdout",
          "output_type": "stream",
          "text": [
            "\n",
            " traffic lights\n",
            "north green\n",
            "east red\n",
            "south red\n",
            "west red\n",
            "\n",
            " traffic lights\n",
            "north red\n",
            "east green\n",
            "south red\n",
            "west red\n",
            "\n",
            " traffic lights\n",
            "north red\n",
            "east red\n",
            "south green\n",
            "west red\n",
            "\n",
            " traffic lights\n",
            "north red\n",
            "east red\n",
            "south red\n",
            "west green\n",
            "\n",
            " traffic lights\n",
            "north green\n",
            "east red\n",
            "south red\n",
            "west red\n",
            "\n",
            " traffic lights\n",
            "north red\n",
            "east green\n",
            "south red\n",
            "west red\n",
            "\n",
            " traffic lights\n",
            "north red\n",
            "east red\n",
            "south green\n",
            "west red\n",
            "\n",
            " traffic lights\n",
            "north red\n",
            "east red\n",
            "south red\n",
            "west green\n"
          ]
        }
      ],
      "source": [
        "import time\n",
        "directions = [\"north\",\"east\",\"south\",\"west\"]\n",
        "\n",
        "while True:\n",
        "  for d in directions:\n",
        "    print(\"\\n traffic lights\")\n",
        "    for i in directions:\n",
        "      if i==d:\n",
        "        print(i,\"green\")\n",
        "      else:\n",
        "        print(i,\"red\")\n",
        "    time.sleep(5)"
      ]
    },
    {
      "cell_type": "code",
      "source": [
        "for i in range (5):\n",
        "  print(\"hello world\")"
      ],
      "metadata": {
        "colab": {
          "base_uri": "https://localhost:8080/"
        },
        "id": "YYQYDs1E98fX",
        "outputId": "7dd64fbc-7a81-4660-fcf1-246609d55f34"
      },
      "execution_count": null,
      "outputs": [
        {
          "output_type": "stream",
          "name": "stdout",
          "text": [
            "hello world\n",
            "hello world\n",
            "hello world\n",
            "hello world\n",
            "hello world\n"
          ]
        }
      ]
    },
    {
      "cell_type": "code",
      "source": [
        "for i in range (10):\n",
        "  print(i)"
      ],
      "metadata": {
        "colab": {
          "base_uri": "https://localhost:8080/"
        },
        "id": "OYlq6gwq_J6e",
        "outputId": "166f1719-2a7f-46e8-db63-0f1654c9c893"
      },
      "execution_count": null,
      "outputs": [
        {
          "output_type": "stream",
          "name": "stdout",
          "text": [
            "0\n",
            "1\n",
            "2\n",
            "3\n",
            "4\n",
            "5\n",
            "6\n",
            "7\n",
            "8\n",
            "9\n"
          ]
        }
      ]
    },
    {
      "cell_type": "code",
      "source": [
        "for i in range(1,11,2):\n",
        "  print(i)"
      ],
      "metadata": {
        "colab": {
          "base_uri": "https://localhost:8080/"
        },
        "id": "8lfm46xD_0E-",
        "outputId": "fd930afb-ea8a-4de5-a938-b72878766708"
      },
      "execution_count": null,
      "outputs": [
        {
          "output_type": "stream",
          "name": "stdout",
          "text": [
            "1\n",
            "3\n",
            "5\n",
            "7\n",
            "9\n"
          ]
        }
      ]
    },
    {
      "cell_type": "code",
      "source": [
        "for i in range(1,25):\n",
        "  if i % 2 == 0:\n",
        "    print(even, \"is even\")\n",
        "  else:\n",
        "    print(i, \"is odd\")"
      ],
      "metadata": {
        "colab": {
          "base_uri": "https://localhost:8080/"
        },
        "id": "qYH8n0ZSAuLj",
        "outputId": "039391e0-0eca-421f-e627-c816950fe323"
      },
      "execution_count": null,
      "outputs": [
        {
          "output_type": "stream",
          "name": "stdout",
          "text": [
            "1 is odd\n",
            "24 is even\n",
            "3 is odd\n",
            "24 is even\n",
            "5 is odd\n",
            "24 is even\n",
            "7 is odd\n",
            "24 is even\n",
            "9 is odd\n",
            "24 is even\n",
            "11 is odd\n",
            "24 is even\n",
            "13 is odd\n",
            "24 is even\n",
            "15 is odd\n",
            "24 is even\n",
            "17 is odd\n",
            "24 is even\n",
            "19 is odd\n",
            "24 is even\n",
            "21 is odd\n",
            "24 is even\n",
            "23 is odd\n",
            "24 is even\n"
          ]
        }
      ]
    },
    {
      "cell_type": "code",
      "source": [
        "for odd in range(1,25):\n",
        "  if odd % 2 != 0:\n",
        "    print(odd, \"is odd\")"
      ],
      "metadata": {
        "colab": {
          "base_uri": "https://localhost:8080/"
        },
        "id": "V-X5Zr0ZBqLI",
        "outputId": "0bcaed0d-685a-49c2-9036-803f10ea14f6"
      },
      "execution_count": null,
      "outputs": [
        {
          "output_type": "stream",
          "name": "stdout",
          "text": [
            "1 is odd\n",
            "3 is odd\n",
            "5 is odd\n",
            "7 is odd\n",
            "9 is odd\n",
            "11 is odd\n",
            "13 is odd\n",
            "15 is odd\n",
            "17 is odd\n",
            "19 is odd\n",
            "21 is odd\n",
            "23 is odd\n"
          ]
        }
      ]
    },
    {
      "cell_type": "code",
      "source": [
        "total_sum = 0\n",
        "for i in range(1,11):\n",
        "  total_sum = total_sum +i\n",
        "  print(total_sum)"
      ],
      "metadata": {
        "colab": {
          "base_uri": "https://localhost:8080/"
        },
        "id": "c2qYLcVHD_du",
        "outputId": "7f412d1b-c238-4de1-91ac-d28fffbaf0b6"
      },
      "execution_count": null,
      "outputs": [
        {
          "output_type": "stream",
          "name": "stdout",
          "text": [
            "1\n",
            "3\n",
            "6\n",
            "10\n",
            "15\n",
            "21\n",
            "28\n",
            "36\n",
            "45\n",
            "55\n"
          ]
        }
      ]
    },
    {
      "cell_type": "code",
      "source": [
        "sum1 = 0\n",
        "for i in range(2,52,2):\n",
        "  sum1 +=i\n",
        "print(\"sum of 2 + 4 + 6.....+51=\",sum)"
      ],
      "metadata": {
        "colab": {
          "base_uri": "https://localhost:8080/"
        },
        "id": "x7WB73X98-Co",
        "outputId": "5eb788aa-071e-407a-9db4-90e87b97eb39"
      },
      "execution_count": null,
      "outputs": [
        {
          "output_type": "stream",
          "name": "stdout",
          "text": [
            "sum of 2 + 4 + 6.....+51= 650\n"
          ]
        }
      ]
    },
    {
      "cell_type": "code",
      "source": [
        "sum2 = 0\n",
        "for i in range(1, 101 ,7):\n",
        "  sum2 +=i\n",
        "print(\"sum of 1 + 8 + 15 + 22 + 29 +.......+100 =\",sum2)"
      ],
      "metadata": {
        "colab": {
          "base_uri": "https://localhost:8080/"
        },
        "id": "i48zshjU98_7",
        "outputId": "ffef99e4-2f2d-4404-c430-cc490de01a51"
      },
      "execution_count": null,
      "outputs": [
        {
          "output_type": "stream",
          "name": "stdout",
          "text": [
            "sum of 1 + 8 + 15 + 22 + 29 +.......+100 = 750\n"
          ]
        }
      ]
    },
    {
      "cell_type": "code",
      "source": [
        "sum3 = 0\n",
        "for i in range(3,51,3):\n",
        "  sum3 += i\n",
        "print(\"sum of 3 + 6 + 9 +......+ 50 =\",sum3)"
      ],
      "metadata": {
        "colab": {
          "base_uri": "https://localhost:8080/"
        },
        "id": "UjS5u1KI-37S",
        "outputId": "b52f536d-0097-4c88-e995-0c365223a6b1"
      },
      "execution_count": null,
      "outputs": [
        {
          "output_type": "stream",
          "name": "stdout",
          "text": [
            "sum of 3 + 6 + 9 +......+ 50 = 408\n"
          ]
        }
      ]
    },
    {
      "cell_type": "code",
      "source": [
        "fact = 1\n",
        "for i in range(1,6):\n",
        "  fact = fact*i\n",
        "  print(\"factorial of 5 is :\",fact)"
      ],
      "metadata": {
        "id": "S8PQacr9H7aI",
        "colab": {
          "base_uri": "https://localhost:8080/"
        },
        "outputId": "230dce03-38da-4b51-956d-a587350882b8"
      },
      "execution_count": null,
      "outputs": [
        {
          "output_type": "stream",
          "name": "stdout",
          "text": [
            "factorial of 5 is : 1\n",
            "factorial of 5 is : 2\n",
            "factorial of 5 is : 6\n",
            "factorial of 5 is : 24\n",
            "factorial of 5 is : 120\n"
          ]
        }
      ]
    },
    {
      "cell_type": "code",
      "source": [
        "sum1 = 0\n",
        "fact = 1\n",
        "\n",
        "for i in range(1, 7):\n",
        "    fact = fact * i\n",
        "    print(f\"{i}! = {fact}\")\n",
        "    sum1 += fact\n",
        "print(\"sum of 1!+2!+3!+4!+5!+6! =\", sum1)"
      ],
      "metadata": {
        "colab": {
          "base_uri": "https://localhost:8080/"
        },
        "id": "ZsedYq61WDbd",
        "outputId": "2a3e7a8e-21a3-4fb3-c4f4-507a49309455"
      },
      "execution_count": null,
      "outputs": [
        {
          "output_type": "stream",
          "name": "stdout",
          "text": [
            "1! = 1\n",
            "2! = 2\n",
            "3! = 6\n",
            "4! = 24\n",
            "5! = 120\n",
            "6! = 720\n",
            "sum of 1!+2!+3!+4!+5!+6! = 873\n"
          ]
        }
      ]
    },
    {
      "cell_type": "code",
      "source": [
        "\n",
        "sum2 = 0\n",
        "fact = 1\n",
        "\n",
        "for i in range(1 , j+1):\n",
        "    fact = fact * i\n",
        "\n",
        "    sum= sum +fact\n",
        "print(sum)"
      ],
      "metadata": {
        "colab": {
          "base_uri": "https://localhost:8080/"
        },
        "id": "JVNIpNMDX30s",
        "outputId": "753986fb-0d3e-4f68-bc43-b520a21b6619"
      },
      "execution_count": null,
      "outputs": [
        {
          "output_type": "stream",
          "name": "stdout",
          "text": [
            "4! = 4\n",
            "5! = 20\n",
            "6! = 120\n",
            "7! = 840\n",
            "8! = 6720\n",
            "9! = 60480\n",
            "10! = 604800\n",
            "sum of 4!+5!+6!+7!+8!+9!+10! = 672984\n"
          ]
        }
      ]
    }
  ],
  "metadata": {
    "colab": {
      "provenance": [],
      "authorship_tag": "ABX9TyMgm4ZC/jHMJTfYNVsb/MbC",
      "include_colab_link": true
    },
    "kernelspec": {
      "display_name": "Python 3",
      "name": "python3"
    },
    "language_info": {
      "name": "python"
    }
  },
  "nbformat": 4,
  "nbformat_minor": 0
}