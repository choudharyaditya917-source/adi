{
  "nbformat": 4,
  "nbformat_minor": 0,
  "metadata": {
    "colab": {
      "provenance": [],
      "authorship_tag": "ABX9TyMXeR0t5bJ9ay+xdiH+EdVR",
      "include_colab_link": true
    },
    "kernelspec": {
      "name": "python3",
      "display_name": "Python 3"
    },
    "language_info": {
      "name": "python"
    }
  },
  "cells": [
    {
      "cell_type": "markdown",
      "metadata": {
        "id": "view-in-github",
        "colab_type": "text"
      },
      "source": [
        "<a href=\"https://colab.research.google.com/github/choudharyaditya917-source/adi/blob/main/aditya.ipynb\" target=\"_parent\"><img src=\"https://colab.research.google.com/assets/colab-badge.svg\" alt=\"Open In Colab\"/></a>"
      ]
    },
    {
      "cell_type": "code",
      "execution_count": null,
      "metadata": {
        "colab": {
          "base_uri": "https://localhost:8080/"
        },
        "id": "I4rh6uDxK6RX",
        "outputId": "64df53e8-d71a-49e1-9a34-fbaa7310313b"
      },
      "outputs": [
        {
          "output_type": "stream",
          "name": "stdout",
          "text": [
            "hi\n"
          ]
        }
      ],
      "source": [
        "print(\"hi\")"
      ]
    },
    {
      "cell_type": "code",
      "source": [],
      "metadata": {
        "id": "TIh8Bm35RqEw"
      },
      "execution_count": null,
      "outputs": []
    },
    {
      "cell_type": "code",
      "source": [
        "print(\"hello d\")"
      ],
      "metadata": {
        "id": "T_Ag0rYNZPAL",
        "outputId": "4e33b6dd-88b6-46d3-e382-6e4f5f55c104",
        "colab": {
          "base_uri": "https://localhost:8080/"
        }
      },
      "execution_count": null,
      "outputs": [
        {
          "output_type": "stream",
          "name": "stdout",
          "text": [
            "hello d\n"
          ]
        }
      ]
    },
    {
      "cell_type": "code",
      "source": [
        "#hi i am writing program for hello world"
      ],
      "metadata": {
        "id": "JlhGvcCsMOGW"
      },
      "execution_count": null,
      "outputs": []
    },
    {
      "cell_type": "code",
      "source": [
        "\"\"\"hi\n",
        "hlo\n",
        "how are you\"\"\""
      ],
      "metadata": {
        "colab": {
          "base_uri": "https://localhost:8080/",
          "height": 36
        },
        "id": "nIFHDkVunueI",
        "outputId": "b45a2d41-380e-43d2-8693-146cb24c543b"
      },
      "execution_count": null,
      "outputs": [
        {
          "output_type": "execute_result",
          "data": {
            "text/plain": [
              "'hi\\nhlo\\nhow are you'"
            ],
            "application/vnd.google.colaboratory.intrinsic+json": {
              "type": "string"
            }
          },
          "metadata": {},
          "execution_count": 6
        }
      ]
    },
    {
      "cell_type": "code",
      "source": [
        "'''hi\n",
        "hlo\n",
        "how are you'''"
      ],
      "metadata": {
        "colab": {
          "base_uri": "https://localhost:8080/",
          "height": 36
        },
        "id": "XTAS89sVoy1f",
        "outputId": "2c024326-70a8-4001-d7c8-a62258dae6ed"
      },
      "execution_count": null,
      "outputs": [
        {
          "output_type": "execute_result",
          "data": {
            "text/plain": [
              "'hi\\nhlo\\nhow are you'"
            ],
            "application/vnd.google.colaboratory.intrinsic+json": {
              "type": "string"
            }
          },
          "metadata": {},
          "execution_count": 7
        }
      ]
    },
    {
      "cell_type": "code",
      "source": [
        "print(\"my name is aditya\")"
      ],
      "metadata": {
        "colab": {
          "base_uri": "https://localhost:8080/"
        },
        "id": "ywzVeSAJo-qF",
        "outputId": "dcc17549-6322-4e42-ca1a-5687ccfbbf32"
      },
      "execution_count": null,
      "outputs": [
        {
          "output_type": "stream",
          "name": "stdout",
          "text": [
            "my name is aditya\n"
          ]
        }
      ]
    },
    {
      "cell_type": "code",
      "source": [
        "name=\"aditya\"\n",
        "print(\"name.       :   \", name)\n",
        "print(\"Name        :  Aditya\")\n",
        "print(\"age            :  23\")\n",
        "print(\"Father's name  :  Gurmeet singh\")\n",
        "print(\"Mother's name  :  Shashi  kanta\")\n",
        "print(\"Email    id    :  choudharyaditya917@gmail.com\")\n",
        "print(\"mobile   no    :  7876161568\")\n",
        "print(\"education      :  BSC Physics\")\n",
        "print(\"Address        :  vpo marwari distt.UNA(HP)\")"
      ],
      "metadata": {
        "colab": {
          "base_uri": "https://localhost:8080/"
        },
        "id": "gbCnwdS0pjxL",
        "outputId": "1f83d8ee-3ab0-4fcb-da37-f999465412e4"
      },
      "execution_count": null,
      "outputs": [
        {
          "output_type": "stream",
          "name": "stdout",
          "text": [
            "name.       :    aditya\n",
            "Name        :  Aditya\n",
            "age            :  23\n",
            "Father's name  :  Gurmeet singh\n",
            "Mother's name  :  Shashi  kanta\n",
            "Email    id    :  choudharyaditya917@gmail.com\n",
            "mobile   no    :  7876161568\n",
            "education      :  BSC Physics\n",
            "Address        :  vpo marwari distt.UNA(HP)\n"
          ]
        }
      ]
    },
    {
      "cell_type": "code",
      "source": [
        "name=\"aditya\"\n",
        "print(\"name.        : \",name)\n",
        "age=\"23\"\n",
        "print(\"age.         : \",age)\n",
        "father_name=\"gurmeet singh\"\n",
        "print(\"father_name. : \",father_name)\n",
        "mother_name=\"shashi kanta\"\n",
        "print(\"mother_name. : \",mother_name)\n",
        "email_id=\"choudharyaditya917@gmail.com\"\n",
        "print(\"email_id.    : \",email_id)\n",
        "mobile_no=\"7876161568\"\n",
        "print(\"mobile_no.   : \",mobile_no)"
      ],
      "metadata": {
        "id": "OoQiT1bJ1h3Q",
        "colab": {
          "base_uri": "https://localhost:8080/"
        },
        "outputId": "e6f42f83-f584-479a-b950-387f464dc04c"
      },
      "execution_count": null,
      "outputs": [
        {
          "output_type": "stream",
          "name": "stdout",
          "text": [
            "name.        :  aditya\n",
            "age.         :  23\n",
            "father_name. :  gurmeet singh\n",
            "mother_name. :  shashi kanta\n",
            "email_id.    :  choudharyaditya917@gmail.com\n",
            "mobile_no.   :  7876161568\n"
          ]
        }
      ]
    },
    {
      "cell_type": "code",
      "source": [
        "item1=\"pizza\"\n",
        "price_of_item1=500\n",
        "item2=\"burger\"\n",
        "price_of_item2=100\n",
        "item3=\"cake\"\n",
        "price_of_item3=200\n",
        "item4=\"shakes\"\n",
        "price_of_item4=500\n",
        "item5=\"sandwich\"\n",
        "price_of_item5=150\n",
        "\n",
        "total_bill=price_of_item1+price_of_item2+price_of_item3+price_of_item4+price_of_item5\n",
        "\n",
        "print(item1,\":\",price_of_item1,\"Rs\")\n",
        "print(item2,\":\",price_of_item2,\"Rs\")\n",
        "print(item3,\":\",price_of_item3,\"Rs\")\n",
        "print(item4,\":\",price_of_item4,\"Rs\")\n",
        "print(item5,\":\",price_of_item5,\"Rs\")\n",
        "print(\"total_bill:\",total_bill,\"Rs\")"
      ],
      "metadata": {
        "id": "0qjO0b1pqez8",
        "colab": {
          "base_uri": "https://localhost:8080/"
        },
        "outputId": "08894f90-e494-4a99-898d-ff875d128b37"
      },
      "execution_count": null,
      "outputs": [
        {
          "output_type": "stream",
          "name": "stdout",
          "text": [
            "pizza : 500 Rs\n",
            "burger : 100 Rs\n",
            "cake : 200 Rs\n",
            "shakes : 500 Rs\n",
            "sandwich : 150 Rs\n",
            "total_bill: 1450 Rs\n"
          ]
        }
      ]
    },
    {
      "cell_type": "code",
      "source": [
        "price = 1000\n",
        "discount =20\n",
        "discount=(price*discount)/100\n",
        "final_price=price-discount\n",
        "\n",
        "print(\"price:\",price,\"Rs\")\n",
        "print(\"discount:\",discount,\"Rs\")\n",
        "print(\"final_price:\",final_price,\"Rs\")"
      ],
      "metadata": {
        "id": "r4M-Gfu-BUBE"
      },
      "execution_count": null,
      "outputs": []
    },
    {
      "cell_type": "code",
      "source": [
        "item1=input(\"burger\")\n",
        "print(item1)\n",
        "price_of_item1=int(input(\"300\"))\n",
        "print(price_of_item1)"
      ],
      "metadata": {
        "id": "RPRXQrcTGeRe"
      },
      "execution_count": null,
      "outputs": []
    },
    {
      "cell_type": "code",
      "source": [
        "# item 1\n",
        "item1=input(\"enter item1:\" )\n",
        "price_of_item1=float(input(\"enter price of item1:\"))\n",
        "discount=float(input(\"enter item1 discount(%):\"))\n",
        "discount_item1=(price_of_item1*discount)/100\n",
        "final_price_item1=price_of_item1-discount_item1\n",
        "print(item1,\":\",price_of_item1,\"Rs\")\n",
        "print(discount_item1,\"Rs\")\n",
        "print(final_price_item1,\"Rs\")"
      ],
      "metadata": {
        "id": "MbWwvaoZ4tLu"
      },
      "execution_count": null,
      "outputs": []
    },
    {
      "cell_type": "code",
      "source": [
        "#item 2\n",
        "item2 = input(\"enter item2:\")\n",
        "price_of_item2 = float(input(\"enter price of item2:\"))\n",
        "discount = float(input(\"enter item2 discount(%):\"))\n",
        "discount_item2 = (price_of_item2 * discount) / 100\n",
        "final_price_item2 = price_of_item2 - discount_item2\n",
        "print(item2, \":\", price_of_item2, \"Rs\")\n",
        "print(discount_item2, \"Rs\")\n",
        "print(final_price_item2, \"Rs\")"
      ],
      "metadata": {
        "id": "GzP1zLRwRsQr"
      },
      "execution_count": null,
      "outputs": []
    },
    {
      "cell_type": "code",
      "source": [
        "#item 3\n",
        "item3 = input(\"enter item3:\")\n",
        "price_of_item3 = float (input(\"enter price of item3:\"))\n",
        "discount = float (input(\"enter item3 discount(%):\"))\n",
        "discount_item3 = (price_of_item3 * discount) / 100\n",
        "final_price_item3 = price_of_item3 - discount_item3\n",
        "print(item3, \":\", price_of_item3, \"Rs\")\n",
        "print(discount_item3, \"Rs\")\n",
        "print(final_price_item3, \"Rs\")\n"
      ],
      "metadata": {
        "id": "Itdbv5M9Sx_1",
        "colab": {
          "base_uri": "https://localhost:8080/"
        },
        "outputId": "c8d83685-c628-4ca6-af70-91b3fe0415cf"
      },
      "execution_count": null,
      "outputs": [
        {
          "output_type": "stream",
          "name": "stdout",
          "text": [
            "enter item3: cake\n",
            "enter price of item3:1000\n",
            "enter item3 discount(%):40\n",
            " cake : 1000.0 Rs\n",
            "400.0 Rs\n",
            "600.0 Rs\n"
          ]
        }
      ]
    },
    {
      "cell_type": "code",
      "source": [
        "#product 1\n",
        "name_of_product=input(\"enter name of product1:\")\n",
        "price_of_product=float(input(\"enter price of product1:\"))\n",
        "discount1=float(input(\"enter discount(%):\"))\n",
        "payable1=price_of_product-(price_of_product*discount1)/100\n",
        "print(name_of_product,\":\",price_of_product,\"Rs\")\n",
        "print(discount1,\"Rs\")\n",
        "print(payable1,\"Rs\")"
      ],
      "metadata": {
        "id": "tdFr-DIJX5IX",
        "colab": {
          "base_uri": "https://localhost:8080/"
        },
        "outputId": "7cc2fc52-eb52-4c2f-b1a5-7b81cc667904"
      },
      "execution_count": null,
      "outputs": [
        {
          "output_type": "stream",
          "name": "stdout",
          "text": [
            "enter name of product1: mobile\n",
            "enter price of product1:75000\n",
            "enter discount(%):20\n",
            " mobile : 75000.0 Rs\n",
            "20.0 %\n",
            "60000.0 Rs\n"
          ]
        }
      ]
    },
    {
      "cell_type": "code",
      "source": [
        "# product 2\n",
        "name_of_product=input(\"enter name of product2:\")\n",
        "price_of_product=float(input(\"enter price of product2:\"))\n",
        "discount2=float(input(\"enter discount(%):\"))\n",
        "payable2=price_of_product-(price_of_product*discount2)/100\n",
        "print(name_of_product,\":\",price_of_product,\"Rs\")\n",
        "print(discount2,\"%\")\n",
        "print(payable2,\"Rs\")"
      ],
      "metadata": {
        "id": "OwI5dyP-h4Te"
      },
      "execution_count": null,
      "outputs": []
    },
    {
      "cell_type": "code",
      "source": [
        "#simple_interest\n",
        "p = float(input(\"enter p amoumt:\"))\n",
        "r = float(input(\"enter rate (as a number):\"))\n",
        "t = float(input(\"enter time (as a single number, e.g., 3.5 for 3 and a half years):\"))\n",
        "# The following lines had syntax errors and are removed:\n",
        "# p= 5000\n",
        "# r= 5%\n",
        "# t= 3 month 20 days\n",
        "simple_interest=(p*r*t)/100\n",
        "print(\"simple_interest : \", simple_interest)"
      ],
      "metadata": {
        "id": "Vrp1icxVmwdc"
      },
      "execution_count": null,
      "outputs": []
    },
    {
      "cell_type": "code",
      "source": [],
      "metadata": {
        "id": "arBevvPkqGCW"
      },
      "execution_count": null,
      "outputs": []
    }
  ]
}